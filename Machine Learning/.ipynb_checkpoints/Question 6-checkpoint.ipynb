{
 "cells": [
  {
   "cell_type": "markdown",
   "id": "4c8221ce",
   "metadata": {},
   "source": [
    "## Imagine you have a dataset where you have predicted loan Eligibility using any 4 different classification algorithms. Now you have to build a model which can predict loan Eligibility and you need to find the accuracy of the model and built-in docker and use some library to display that in frontend."
   ]
  },
  {
   "cell_type": "markdown",
   "id": "a224b64e",
   "metadata": {},
   "source": [
    "> DATASET NOT AVAILABLE!\n",
    "\n",
    "> DATASET IS PRIVATE"
   ]
  },
  {
   "cell_type": "code",
   "execution_count": null,
   "id": "224c938d",
   "metadata": {},
   "outputs": [],
   "source": []
  }
 ],
 "metadata": {
  "kernelspec": {
   "display_name": "Python 3 (ipykernel)",
   "language": "python",
   "name": "python3"
  },
  "language_info": {
   "codemirror_mode": {
    "name": "ipython",
    "version": 3
   },
   "file_extension": ".py",
   "mimetype": "text/x-python",
   "name": "python",
   "nbconvert_exporter": "python",
   "pygments_lexer": "ipython3",
   "version": "3.8.16"
  }
 },
 "nbformat": 4,
 "nbformat_minor": 5
}
